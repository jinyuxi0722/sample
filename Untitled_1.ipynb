{
 "cells": [
  {
   "cell_type": "code",
   "execution_count": null,
   "metadata": {},
   "outputs": [],
   "source": [
    "\n",
    "import wikipedia\n",
    "\n",
    "def wikipediaSearch(search_text):\n",
    "    response_string = ''\n",
    "    wikipedia.set_lang('ja')\n",
    "    search_response = wikipedia.search(search_text)\n",
    "    if len(search_response) > 0:\n",
    "        try:\n",
    "            wiki_page = wikipedia.page(search_response[0])\n",
    "        except Exception as e:\n",
    "            response_string = '例外'\n",
    "            return response_string\n",
    "        wiki_summary = wiki_page.summary\n",
    "       \n",
    "\n",
    "        response_string += wiki_summary + \"\\n\"\n",
    "        response_string += \"リンク:\" + wiki_page.url\n",
    "    else :\n",
    "        response_string = 'wikipediaが無さそうです\\n'\n",
    "    return response_string\n",
    "\n",
    "if __name__ == \"__main__\":\n",
    "    while True:\n",
    "        user_input = input(\"キーワード：\")\n",
    "        \n",
    "        sentence = (wikipediaSearch(user_input).split(\"。\"))\n",
    "           \n",
    "        if len(sentence) > 3 :  \n",
    "            content = \"。\".join(sentence[:3])\n",
    "            link = (wikipediaSearch(user_input).rsplit(\"。\",1)[-1])  \n",
    "            print(content + link)\n",
    "         \n",
    "        else :\n",
    "            content = \"。\".join(sentence[:3])\n",
    "            print(content)\n",
    "        \n",
    "\n",
    "       \n",
    "        "
   ]
  }
 ],
 "metadata": {
  "kernelspec": {
   "display_name": "Python 3",
   "language": "python",
   "name": "python3"
  },
  "language_info": {
   "codemirror_mode": {
    "name": "ipython",
    "version": 3
   },
   "file_extension": ".py",
   "mimetype": "text/x-python",
   "name": "python",
   "nbconvert_exporter": "python",
   "pygments_lexer": "ipython3",
   "version": "3.7.4"
  }
 },
 "nbformat": 4,
 "nbformat_minor": 4
}
